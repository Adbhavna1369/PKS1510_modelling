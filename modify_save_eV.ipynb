{
 "cells": [
  {
   "cell_type": "code",
   "execution_count": 173,
   "metadata": {},
   "outputs": [],
   "source": [
    "\n",
    "from astropy.constants import h\n",
    "from astropy.io import ascii\n",
    "import astropy.units as u\n",
    "from astropy.table import Table\n",
    "\n"
   ]
  },
  {
   "cell_type": "code",
   "execution_count": 174,
   "metadata": {},
   "outputs": [],
   "source": [
    "sed_path = '/home/pc/Desktop/PKS1510_modelling-main/data/data_mcmc/PKS1510-089_2015a.ecsv'\n",
    "sed_data = ascii.read(sed_path)\n",
    "#sed_data['nu'].info.format = '7.3f'\n",
    "#print (sed_data)\n"
   ]
  },
  {
   "cell_type": "code",
   "execution_count": 175,
   "metadata": {},
   "outputs": [
    {
     "name": "stdout",
     "output_type": "stream",
     "text": [
      "[1.53019705e-04 1.93549248e+00 3.57776612e+00 6.02566783e+00\n",
      " 4.85113821e+02 7.89912530e+02 1.01985565e+03 1.22002197e+03\n",
      " 1.43507669e+03 1.74483820e+03 2.32010958e+03 3.09513370e+03\n",
      " 4.23078805e+03 1.36683817e+08 3.04385142e+08 6.77835936e+08\n",
      " 1.50951871e+09 3.36147070e+09 1.30397602e+11 1.98222553e+11\n",
      " 3.01242035e+11] eV\n"
     ]
    }
   ],
   "source": [
    "#convert frequency to a source of energy\n",
    "e_ref= (sed_data['nu']).to(u.eV, equivalencies=u.spectral())\n",
    " \n",
    "print (e_ref)"
   ]
  },
  {
   "cell_type": "code",
   "execution_count": 176,
   "metadata": {},
   "outputs": [],
   "source": [
    "#rename some coloumns for gammapy to read the table\n",
    "sed_data.rename_column('nu', 'e_ref')\n",
    "sed_data.rename_column('flux', 'e2dnde')\n",
    "sed_data.rename_column('flux_err_lo', 'e2dnde_errn')\n",
    "sed_data.rename_column('flux_err_hi', 'e2dnde_errp')\n"
   ]
  },
  {
   "cell_type": "code",
   "execution_count": 177,
   "metadata": {},
   "outputs": [
    {
     "name": "stdout",
     "output_type": "stream",
     "text": [
      "<Table length=21>\n",
      "    name     dtype       unit              mean                  std                min         max   \n",
      "----------- ------- ------------- --------------------- ---------------------- ------------- ---------\n",
      "      e_ref float64            Hz 7.321350188285245e+24 1.8863258695831238e+25 37000000000.0 7.284e+25\n",
      "     e2dnde float64 erg / (cm2 s) 2.438917142857143e-10 4.1697271729981874e-10      1.21e-12 1.139e-09\n",
      "e2dnde_errn float64 erg / (cm2 s) 4.819261428571428e-11  8.902338785254178e-11     1.517e-13  3.11e-10\n",
      "e2dnde_errp float64 erg / (cm2 s) 4.819261428571428e-11  8.902338785254178e-11     1.517e-13  3.11e-10\n"
     ]
    }
   ],
   "source": [
    "sed_data.info(['attributes', 'stats'])"
   ]
  },
  {
   "cell_type": "code",
   "execution_count": null,
   "metadata": {},
   "outputs": [],
   "source": [
    "\n"
   ]
  },
  {
   "cell_type": "code",
   "execution_count": null,
   "metadata": {},
   "outputs": [],
   "source": []
  }
 ],
 "metadata": {
  "interpreter": {
   "hash": "d8501af38b0e9ca30e7ecef5e7f4c17c10f44fe24391a76e2de11d5bba872076"
  },
  "kernelspec": {
   "display_name": "Python 3.8.10 64-bit (conda)",
   "language": "python",
   "name": "python3"
  },
  "language_info": {
   "codemirror_mode": {
    "name": "ipython",
    "version": 3
   },
   "file_extension": ".py",
   "mimetype": "text/x-python",
   "name": "python",
   "nbconvert_exporter": "python",
   "pygments_lexer": "ipython3",
   "version": "3.8.10"
  },
  "orig_nbformat": 4
 },
 "nbformat": 4,
 "nbformat_minor": 2
}
